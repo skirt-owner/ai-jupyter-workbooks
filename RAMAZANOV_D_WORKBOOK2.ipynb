{
 "cells": [
  {
   "cell_type": "code",
   "execution_count": 21,
   "id": "3e0f9ff0",
   "metadata": {},
   "outputs": [
    {
     "name": "stdout",
     "output_type": "stream",
     "text": [
      "[[0. 1. 0. 1. 0. 1. 0. 1.]\n",
      " [1. 0. 1. 0. 1. 0. 1. 0.]\n",
      " [0. 1. 0. 1. 0. 1. 0. 1.]\n",
      " [1. 0. 1. 0. 1. 0. 1. 0.]\n",
      " [0. 1. 0. 1. 0. 1. 0. 1.]\n",
      " [1. 0. 1. 0. 1. 0. 1. 0.]\n",
      " [0. 1. 0. 1. 0. 1. 0. 1.]\n",
      " [1. 0. 1. 0. 1. 0. 1. 0.]]\n"
     ]
    }
   ],
   "source": [
    "#1.3.1\n",
    "import numpy as np\n",
    "# создаем массив нулей 8х8\n",
    "array = np.zeros((8, 8))\n",
    "# заполняем его в шахматном порядке\n",
    "array[1::2, ::2] = 1\n",
    "array[::2, 1::2] = 1\n",
    "print(array)"
   ]
  },
  {
   "cell_type": "code",
   "execution_count": 26,
   "id": "4a9fd742",
   "metadata": {},
   "outputs": [
    {
     "name": "stdout",
     "output_type": "stream",
     "text": [
      "[[0. 1. 2. 3. 4.]\n",
      " [0. 1. 2. 3. 4.]\n",
      " [0. 1. 2. 3. 4.]\n",
      " [0. 1. 2. 3. 4.]\n",
      " [0. 1. 2. 3. 4.]]\n"
     ]
    }
   ],
   "source": [
    "#1.3.2\n",
    "import numpy as np\n",
    "# создаем массив нулей 5х5 и с помощью сложения матриц прибавляем матрицу 0х5 \n",
    "array = np.zeros((5, 5))+np.arange(0, 5)\n",
    "print(array)"
   ]
  },
  {
   "cell_type": "code",
   "execution_count": 27,
   "id": "71da67c4",
   "metadata": {},
   "outputs": [
    {
     "name": "stdout",
     "output_type": "stream",
     "text": [
      "[[[0.52210683 0.38211519 0.7412039 ]\n",
      "  [0.73129836 0.55241551 0.13093659]\n",
      "  [0.92733666 0.88494522 0.74602677]]\n",
      "\n",
      " [[0.93710825 0.60645889 0.15914039]\n",
      "  [0.73577661 0.82054205 0.79695898]\n",
      "  [0.55083639 0.87775216 0.10218691]]\n",
      "\n",
      " [[0.538138   0.69853793 0.81685518]\n",
      "  [0.13837118 0.89208151 0.33042428]\n",
      "  [0.99632485 0.776359   0.33592556]]]\n"
     ]
    }
   ],
   "source": [
    "#1.3.3\n",
    "import numpy as np\n",
    "# создаем трехмерную матрицу со случаными числами от 0 до 1\n",
    "array = np.random.random((3,3,3))\n",
    "print(array)"
   ]
  },
  {
   "cell_type": "code",
   "execution_count": 31,
   "id": "043e12d8",
   "metadata": {},
   "outputs": [
    {
     "name": "stdout",
     "output_type": "stream",
     "text": [
      "[[1. 1. 1. 1. 1. 1. 1. 1. 1. 1.]\n",
      " [1. 0. 0. 0. 0. 0. 0. 0. 0. 1.]\n",
      " [1. 0. 0. 0. 0. 0. 0. 0. 0. 1.]\n",
      " [1. 0. 0. 0. 0. 0. 0. 0. 0. 1.]\n",
      " [1. 0. 0. 0. 0. 0. 0. 0. 0. 1.]\n",
      " [1. 0. 0. 0. 0. 0. 0. 0. 0. 1.]\n",
      " [1. 0. 0. 0. 0. 0. 0. 0. 0. 1.]\n",
      " [1. 0. 0. 0. 0. 0. 0. 0. 0. 1.]\n",
      " [1. 0. 0. 0. 0. 0. 0. 0. 0. 1.]\n",
      " [1. 1. 1. 1. 1. 1. 1. 1. 1. 1.]]\n"
     ]
    }
   ],
   "source": [
    "#1.3.4\n",
    "import numpy as np\n",
    "# создаем массив единиц 10х10\n",
    "array = np.ones((10, 10))\n",
    "# заполняем строчки от 1 до n-1 и все столбцы от 1 до n-1 - нулями \n",
    "array[1:-1, 1:-1] = 0\n",
    "print(array)"
   ]
  },
  {
   "cell_type": "code",
   "execution_count": 33,
   "id": "a09419aa",
   "metadata": {},
   "outputs": [
    {
     "name": "stdout",
     "output_type": "stream",
     "text": [
      "array: [0.21337097 0.94225338 0.1612848  0.27971672 0.2787665  0.00297656\n",
      " 0.13895524 0.89245169 0.3056541  0.03633534]\n",
      "sorted array: [0.94225338 0.89245169 0.3056541  0.27971672 0.2787665  0.21337097\n",
      " 0.1612848  0.13895524 0.03633534 0.00297656]\n"
     ]
    }
   ],
   "source": [
    "#1.3.5\n",
    "import numpy as np\n",
    "array = np.random.random(10)\n",
    "print(f\"array: {array}\")\n",
    "array[::-1].sort()\n",
    "print(f\"sorted array: {array}\")"
   ]
  },
  {
   "cell_type": "code",
   "execution_count": 24,
   "id": "279a94cb",
   "metadata": {},
   "outputs": [
    {
     "name": "stdout",
     "output_type": "stream",
     "text": [
      "shape: (3, 5, 4, 5)\n",
      "dims: 4\n",
      "size: 300\n"
     ]
    }
   ],
   "source": [
    "#1.3.6\n",
    "import numpy as np\n",
    "array = np.random.random((3, 5, 4, 5))\n",
    "print(f\"shape: {array.shape}\\ndims: {array.ndim}\\nsize: {array.size}\")"
   ]
  },
  {
   "cell_type": "code",
   "execution_count": 5,
   "id": "31310a66",
   "metadata": {},
   "outputs": [
    {
     "name": "stdout",
     "output_type": "stream",
     "text": [
      "0.9812898337988617\n"
     ]
    }
   ],
   "source": [
    "#2.3.1\n",
    "import numpy as np\n",
    "import pandas as pd\n",
    "series1 = pd.Series(np.random.random(5))\n",
    "series2 = pd.Series(np.random.random(5))\n",
    "print(sum((series1-series2)**2)**0.5)"
   ]
  },
  {
   "cell_type": "code",
   "execution_count": 7,
   "id": "96ca7370",
   "metadata": {},
   "outputs": [
    {
     "name": "stdout",
     "output_type": "stream",
     "text": [
      "   age  workclass  education_num marital_status    occupation   relationship  \\\n",
      "0   39  State-gov             13  Never-married  Adm-clerical  Not-in-family   \n",
      "\n",
      "    race gender  hours_per_week native_country  capital income_status  \n",
      "0  White   Male              40  United-States     2174         <=50K  \n"
     ]
    }
   ],
   "source": [
    "#2.3.2\n",
    "import pandas as pd\n",
    "dataframe = pd.read_csv(\"https://raw.githubusercontent.com/akmand/datasets/main/adult.csv\")\n",
    "print(dataframe.head(2))"
   ]
  },
  {
   "cell_type": "code",
   "execution_count": 34,
   "id": "0e556ad8",
   "metadata": {},
   "outputs": [
    {
     "name": "stdout",
     "output_type": "stream",
     "text": [
      "   age         workclass  education_num      marital_status       occupation  \\\n",
      "0   39         State-gov             13       Never-married     Adm-clerical   \n",
      "1   50  Self-emp-not-inc             13  Married-civ-spouse  Exec-managerial   \n",
      "\n",
      "    relationship   race gender  hours_per_week native_country  capital  \\\n",
      "0  Not-in-family  White   Male              40  United-States     2174   \n",
      "1        Husband  White   Male              13  United-States        0   \n",
      "\n",
      "  income_status  \n",
      "0         <=50K  \n",
      "1         <=50K  \n",
      "--------------------------------------------------\n",
      "       age     workclass  education_num      marital_status       occupation  \\\n",
      "45219   38       Private             13  Married-civ-spouse   Prof-specialty   \n",
      "45220   44       Private             13            Divorced     Adm-clerical   \n",
      "45221   35  Self-emp-inc             13  Married-civ-spouse  Exec-managerial   \n",
      "\n",
      "      relationship   race gender  hours_per_week native_country  capital  \\\n",
      "45219      Husband  White   Male              50  United-States        0   \n",
      "45220    Own-child  Other   Male              40  United-States     5455   \n",
      "45221      Husband  White   Male              60  United-States        0   \n",
      "\n",
      "      income_status  \n",
      "45219         <=50K  \n",
      "45220         <=50K  \n",
      "45221          >50K  \n",
      "--------------------------------------------------\n",
      "(45222, 12)\n",
      "--------------------------------------------------\n",
      "                age  education_num  hours_per_week       capital\n",
      "count  45222.000000   45222.000000    45222.000000  45222.000000\n",
      "mean      38.547941      10.118460       40.938017   1012.834925\n",
      "std       13.217870       2.552881       12.007508   7530.315380\n",
      "min       17.000000       1.000000        1.000000  -4356.000000\n",
      "25%       28.000000       9.000000       40.000000      0.000000\n",
      "50%       37.000000      10.000000       40.000000      0.000000\n",
      "75%       47.000000      13.000000       45.000000      0.000000\n",
      "max       90.000000      16.000000       99.000000  99999.000000\n",
      "--------------------------------------------------\n",
      "   age         workclass  education_num      marital_status  \\\n",
      "1   50  Self-emp-not-inc             13  Married-civ-spouse   \n",
      "2   38           Private              9            Divorced   \n",
      "\n",
      "          occupation   relationship   race gender  hours_per_week  \\\n",
      "1    Exec-managerial        Husband  White   Male              13   \n",
      "2  Handlers-cleaners  Not-in-family  White   Male              40   \n",
      "\n",
      "  native_country  capital income_status  \n",
      "1  United-States        0         <=50K  \n",
      "2  United-States        0         <=50K  \n",
      "--------------------------------------------------\n",
      "   age         workclass  education_num      marital_status  \\\n",
      "3   53           Private              7  Married-civ-spouse   \n",
      "7   52  Self-emp-not-inc              9  Married-civ-spouse   \n",
      "\n",
      "          occupation relationship   race gender  hours_per_week  \\\n",
      "3  Handlers-cleaners      Husband  Other   Male              40   \n",
      "7    Exec-managerial      Husband  White   Male              45   \n",
      "\n",
      "  native_country  capital income_status  \n",
      "3  United-States        0         <=50K  \n",
      "7  United-States        0          >50K  \n",
      "--------------------------------------------------\n"
     ]
    }
   ],
   "source": [
    "#2.3.3\n",
    "import pandas as pd\n",
    "dataframe = pd.read_csv(\"https://raw.githubusercontent.com/akmand/datasets/main/adult.csv\")\n",
    "print(dataframe.head(2))\n",
    "print(\"-\"*50)\n",
    "print(dataframe.tail(3))\n",
    "print(\"-\"*50)\n",
    "print(dataframe.shape)\n",
    "print(\"-\"*50)\n",
    "print(dataframe.describe())\n",
    "print(\"-\"*50)\n",
    "print(dataframe.iloc[1:3])\n",
    "print(\"-\"*50)\n",
    "print(dataframe[dataframe[\"age\"] > 50].head(2))\n",
    "print(\"-\"*50)"
   ]
  },
  {
   "cell_type": "code",
   "execution_count": 40,
   "id": "9318797e",
   "metadata": {},
   "outputs": [
    {
     "data": {
      "text/html": [
       "<div>\n",
       "<style scoped>\n",
       "    .dataframe tbody tr th:only-of-type {\n",
       "        vertical-align: middle;\n",
       "    }\n",
       "\n",
       "    .dataframe tbody tr th {\n",
       "        vertical-align: top;\n",
       "    }\n",
       "\n",
       "    .dataframe thead th {\n",
       "        text-align: right;\n",
       "    }\n",
       "</style>\n",
       "<table border=\"1\" class=\"dataframe\">\n",
       "  <thead>\n",
       "    <tr style=\"text-align: right;\">\n",
       "      <th></th>\n",
       "      <th>sepal_length_cm</th>\n",
       "      <th>sepal_width_cm</th>\n",
       "      <th>petal_length_cm</th>\n",
       "      <th>petal_width_cm</th>\n",
       "      <th>species</th>\n",
       "    </tr>\n",
       "  </thead>\n",
       "  <tbody>\n",
       "    <tr>\n",
       "      <th>0</th>\n",
       "      <td>0.222222</td>\n",
       "      <td>1.032057</td>\n",
       "      <td>1.4</td>\n",
       "      <td>0.2</td>\n",
       "      <td>setosa</td>\n",
       "    </tr>\n",
       "    <tr>\n",
       "      <th>1</th>\n",
       "      <td>0.166667</td>\n",
       "      <td>-0.124958</td>\n",
       "      <td>1.4</td>\n",
       "      <td>0.2</td>\n",
       "      <td>setosa</td>\n",
       "    </tr>\n",
       "    <tr>\n",
       "      <th>2</th>\n",
       "      <td>0.111111</td>\n",
       "      <td>0.337848</td>\n",
       "      <td>1.3</td>\n",
       "      <td>0.2</td>\n",
       "      <td>setosa</td>\n",
       "    </tr>\n",
       "    <tr>\n",
       "      <th>3</th>\n",
       "      <td>0.083333</td>\n",
       "      <td>0.106445</td>\n",
       "      <td>1.5</td>\n",
       "      <td>0.2</td>\n",
       "      <td>setosa</td>\n",
       "    </tr>\n",
       "    <tr>\n",
       "      <th>4</th>\n",
       "      <td>0.194444</td>\n",
       "      <td>1.263460</td>\n",
       "      <td>1.4</td>\n",
       "      <td>0.2</td>\n",
       "      <td>setosa</td>\n",
       "    </tr>\n",
       "  </tbody>\n",
       "</table>\n",
       "</div>"
      ],
      "text/plain": [
       "   sepal_length_cm  sepal_width_cm  petal_length_cm  petal_width_cm species\n",
       "0         0.222222        1.032057              1.4             0.2  setosa\n",
       "1         0.166667       -0.124958              1.4             0.2  setosa\n",
       "2         0.111111        0.337848              1.3             0.2  setosa\n",
       "3         0.083333        0.106445              1.5             0.2  setosa\n",
       "4         0.194444        1.263460              1.4             0.2  setosa"
      ]
     },
     "execution_count": 40,
     "metadata": {},
     "output_type": "execute_result"
    }
   ],
   "source": [
    "#3.3.2\n",
    "import pandas as pd\n",
    "from sklearn import preprocessing\n",
    "\n",
    "df = pd.read_csv(\"https://raw.githubusercontent.com/akmand/datasets/master/iris.csv\")\n",
    "\n",
    "# нормализацию первого числового признака\n",
    "# (sepal_length_cm) с использованием минимаксного преобразования\n",
    "scaler = preprocessing.MinMaxScaler()\n",
    "df[[\"sepal_length_cm\"]] = scaler.fit_transform(df[[\"sepal_length_cm\"]])\n",
    "\n",
    "# (sepal_width_cm) с задействованием z-масштабирования.\n",
    "scaler = preprocessing.StandardScaler()\n",
    "df[[\"sepal_width_cm\"]] = scaler.fit_transform(df[[\"sepal_width_cm\"]])\n",
    "\n",
    "df.head()"
   ]
  },
  {
   "cell_type": "code",
   "execution_count": null,
   "id": "6bb43b93",
   "metadata": {},
   "outputs": [],
   "source": []
  }
 ],
 "metadata": {
  "kernelspec": {
   "display_name": "Python 3 (ipykernel)",
   "language": "python",
   "name": "python3"
  },
  "language_info": {
   "codemirror_mode": {
    "name": "ipython",
    "version": 3
   },
   "file_extension": ".py",
   "mimetype": "text/x-python",
   "name": "python",
   "nbconvert_exporter": "python",
   "pygments_lexer": "ipython3",
   "version": "3.11.0"
  }
 },
 "nbformat": 4,
 "nbformat_minor": 5
}
